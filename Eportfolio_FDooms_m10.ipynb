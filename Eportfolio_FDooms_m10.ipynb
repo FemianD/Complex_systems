{
 "cells": [
  {
   "cell_type": "code",
   "execution_count": null,
   "metadata": {},
   "outputs": [],
   "source": []
  },
  {
   "cell_type": "markdown",
   "metadata": {},
   "source": [
    "# Portfolio Complex Systems Module 10 Empirical Dynamic Modeling\n",
    "\n",
    "Name: Femian Dooms\n",
    "\n",
    "Student number: 2086229\n",
    "\n",
    "Data: Timeseries data featuring power imbalance prices in the Netherlands. Obtained from Tennet transparency (publicaly available).\n",
    "91 data points measured from 01-01-2024 up untill 01-04-2024. Every datapoint is the mean price at time i where i is measured in days.\n",
    "\n",
    "Sources:\n",
    "\n",
    "Contents:\n",
    "\n",
    "Empirical Dynamic Modeling\n",
    "\n",
    "\n"
   ]
  },
  {
   "cell_type": "code",
   "execution_count": 5,
   "metadata": {},
   "outputs": [],
   "source": [
    "import csv\n",
    "import numpy as np\n",
    "import pandas as pd\n",
    "from datetime import datetime\n",
    "import matplotlib.pyplot as plt\n",
    "\n",
    "# Create df \n",
    "df = pd.read_csv('final_dataset.csv', delimiter=',')\n",
    "df = df.groupby('Date')[['imbalance_price', 'wind_production', 'solar_production', 'gas_production']].mean().reset_index()\n"
   ]
  },
  {
   "cell_type": "markdown",
   "metadata": {},
   "source": [
    "\n",
    "## Intro to EDM\n",
    "Empirical Dynamic Modeling (EDM) is a data-driven approach used in the field of complex systems analysis to understand and predict the behavior of dynamical systems. It's particularly useful when dealing with nonlinear and complex systems where traditional mathematical modeling techniques may be insufficient.\n",
    "\n",
    "Here's how it typically works:\n",
    "\n",
    "Time Series Data Collection: EDM starts with collecting time series data from the system under study. This data could come from various sources such as sensors, experiments, or simulations.\n",
    "\n",
    "Phase Space Reconstruction: EDM reconstructs the phase space of the system from the time series data. Phase space represents all possible states of a system, and by reconstructing it from the data, EDM aims to capture the underlying dynamics of the system.\n",
    "\n",
    "Model Construction: Once the phase space is reconstructed, EDM employs various techniques such as Taken's embedding theorem, simplex projection, or delay-coordinate embedding to construct a mathematical model from the data. This model typically takes the form of a set of equations or rules that describe the system's dynamics.\n",
    "\n",
    "Model Validation and Prediction: The constructed model is then validated using the original data or additional data not used in the model construction. If the model performs well in predicting the behavior of the system, it can be used for prediction and forecasting."
   ]
  },
  {
   "cell_type": "markdown",
   "metadata": {},
   "source": [
    "### Steps to code EDM\n",
    "Data should be sampled at equal intervals\n",
    "Normalize data to zero mean and unit variance\n",
    "Should be stationary (detrend if necessary)\n",
    "Don’t use a linear filter\n",
    "Be careful of strongly periodic signals"
   ]
  },
  {
   "cell_type": "code",
   "execution_count": 32,
   "metadata": {},
   "outputs": [
    {
     "ename": "RuntimeError",
     "evalue": "Validate() Simplex: dataFrame required.",
     "output_type": "error",
     "traceback": [
      "\u001b[1;31m---------------------------------------------------------------------------\u001b[0m",
      "\u001b[1;31mRuntimeError\u001b[0m                              Traceback (most recent call last)",
      "Cell \u001b[1;32mIn[32], line 17\u001b[0m\n\u001b[0;32m     10\u001b[0m time_series_data \u001b[38;5;241m=\u001b[39m {\n\u001b[0;32m     11\u001b[0m     \u001b[38;5;124m\"\u001b[39m\u001b[38;5;124mTime\u001b[39m\u001b[38;5;124m\"\u001b[39m: df\u001b[38;5;241m.\u001b[39mindex,\n\u001b[0;32m     12\u001b[0m     \u001b[38;5;124m\"\u001b[39m\u001b[38;5;124mDriver1\u001b[39m\u001b[38;5;124m\"\u001b[39m: df[\u001b[38;5;124m'\u001b[39m\u001b[38;5;124msolar_production\u001b[39m\u001b[38;5;124m'\u001b[39m]\u001b[38;5;241m.\u001b[39mvalues,\n\u001b[0;32m     13\u001b[0m     \u001b[38;5;124m\"\u001b[39m\u001b[38;5;124mTarget\u001b[39m\u001b[38;5;124m\"\u001b[39m: df[\u001b[38;5;124m'\u001b[39m\u001b[38;5;124mImbalance_Price_Detrended\u001b[39m\u001b[38;5;124m'\u001b[39m]\u001b[38;5;241m.\u001b[39mvalues\n\u001b[0;32m     14\u001b[0m }\n\u001b[0;32m     16\u001b[0m \u001b[38;5;66;03m# Create an EDM object\u001b[39;00m\n\u001b[1;32m---> 17\u001b[0m edm \u001b[38;5;241m=\u001b[39m \u001b[43mpyEDM\u001b[49m\u001b[38;5;241;43m.\u001b[39;49m\u001b[43mSimplex\u001b[49m\u001b[43m(\u001b[49m\u001b[43m)\u001b[49m\n\u001b[0;32m     19\u001b[0m \u001b[38;5;66;03m# Set the columns\u001b[39;00m\n\u001b[0;32m     20\u001b[0m target_col \u001b[38;5;241m=\u001b[39m \u001b[38;5;124m\"\u001b[39m\u001b[38;5;124mTarget\u001b[39m\u001b[38;5;124m\"\u001b[39m\n",
      "File \u001b[1;32m~\\AppData\\Local\\Packages\\PythonSoftwareFoundation.Python.3.11_qbz5n2kfra8p0\\LocalCache\\local-packages\\Python311\\site-packages\\pyEDM\\API.py:113\u001b[0m, in \u001b[0;36mSimplex\u001b[1;34m(dataFrame, columns, target, lib, pred, E, Tp, knn, tau, exclusionRadius, embedded, validLib, noTime, verbose, showPlot, ignoreNan, returnObject)\u001b[0m\n\u001b[0;32m    108\u001b[0m \u001b[38;5;250m\u001b[39m\u001b[38;5;124;03m'''Simplex prediction of dataFrame target from columns.'''\u001b[39;00m\n\u001b[0;32m    110\u001b[0m \u001b[38;5;66;03m# Instantiate SimplexClass object\u001b[39;00m\n\u001b[0;32m    111\u001b[0m \u001b[38;5;66;03m#    Constructor assigns dataFrame to self, calls Validate(),\u001b[39;00m\n\u001b[0;32m    112\u001b[0m \u001b[38;5;66;03m#    CreateIndices(), and assigns targetVec, allTime\u001b[39;00m\n\u001b[1;32m--> 113\u001b[0m S \u001b[38;5;241m=\u001b[39m \u001b[43mSimplexClass\u001b[49m\u001b[43m(\u001b[49m\u001b[43m \u001b[49m\u001b[43mdataFrame\u001b[49m\u001b[43m       \u001b[49m\u001b[38;5;241;43m=\u001b[39;49m\u001b[43m \u001b[49m\u001b[43mdataFrame\u001b[49m\u001b[43m,\u001b[49m\n\u001b[0;32m    114\u001b[0m \u001b[43m                  \u001b[49m\u001b[43mcolumns\u001b[49m\u001b[43m         \u001b[49m\u001b[38;5;241;43m=\u001b[39;49m\u001b[43m \u001b[49m\u001b[43mcolumns\u001b[49m\u001b[43m,\u001b[49m\n\u001b[0;32m    115\u001b[0m \u001b[43m                  \u001b[49m\u001b[43mtarget\u001b[49m\u001b[43m          \u001b[49m\u001b[38;5;241;43m=\u001b[39;49m\u001b[43m \u001b[49m\u001b[43mtarget\u001b[49m\u001b[43m,\u001b[49m\u001b[43m \u001b[49m\n\u001b[0;32m    116\u001b[0m \u001b[43m                  \u001b[49m\u001b[43mlib\u001b[49m\u001b[43m             \u001b[49m\u001b[38;5;241;43m=\u001b[39;49m\u001b[43m \u001b[49m\u001b[43mlib\u001b[49m\u001b[43m,\u001b[49m\n\u001b[0;32m    117\u001b[0m \u001b[43m                  \u001b[49m\u001b[43mpred\u001b[49m\u001b[43m            \u001b[49m\u001b[38;5;241;43m=\u001b[39;49m\u001b[43m \u001b[49m\u001b[43mpred\u001b[49m\u001b[43m,\u001b[49m\n\u001b[0;32m    118\u001b[0m \u001b[43m                  \u001b[49m\u001b[43mE\u001b[49m\u001b[43m               \u001b[49m\u001b[38;5;241;43m=\u001b[39;49m\u001b[43m \u001b[49m\u001b[43mE\u001b[49m\u001b[43m,\u001b[49m\u001b[43m \u001b[49m\n\u001b[0;32m    119\u001b[0m \u001b[43m                  \u001b[49m\u001b[43mTp\u001b[49m\u001b[43m              \u001b[49m\u001b[38;5;241;43m=\u001b[39;49m\u001b[43m \u001b[49m\u001b[43mTp\u001b[49m\u001b[43m,\u001b[49m\n\u001b[0;32m    120\u001b[0m \u001b[43m                  \u001b[49m\u001b[43mknn\u001b[49m\u001b[43m             \u001b[49m\u001b[38;5;241;43m=\u001b[39;49m\u001b[43m \u001b[49m\u001b[43mknn\u001b[49m\u001b[43m,\u001b[49m\n\u001b[0;32m    121\u001b[0m \u001b[43m                  \u001b[49m\u001b[43mtau\u001b[49m\u001b[43m             \u001b[49m\u001b[38;5;241;43m=\u001b[39;49m\u001b[43m \u001b[49m\u001b[43mtau\u001b[49m\u001b[43m,\u001b[49m\n\u001b[0;32m    122\u001b[0m \u001b[43m                  \u001b[49m\u001b[43mexclusionRadius\u001b[49m\u001b[43m \u001b[49m\u001b[38;5;241;43m=\u001b[39;49m\u001b[43m \u001b[49m\u001b[43mexclusionRadius\u001b[49m\u001b[43m,\u001b[49m\n\u001b[0;32m    123\u001b[0m \u001b[43m                  \u001b[49m\u001b[43membedded\u001b[49m\u001b[43m        \u001b[49m\u001b[38;5;241;43m=\u001b[39;49m\u001b[43m \u001b[49m\u001b[43membedded\u001b[49m\u001b[43m,\u001b[49m\n\u001b[0;32m    124\u001b[0m \u001b[43m                  \u001b[49m\u001b[43mvalidLib\u001b[49m\u001b[43m        \u001b[49m\u001b[38;5;241;43m=\u001b[39;49m\u001b[43m \u001b[49m\u001b[43mvalidLib\u001b[49m\u001b[43m,\u001b[49m\n\u001b[0;32m    125\u001b[0m \u001b[43m                  \u001b[49m\u001b[43mnoTime\u001b[49m\u001b[43m          \u001b[49m\u001b[38;5;241;43m=\u001b[39;49m\u001b[43m \u001b[49m\u001b[43mnoTime\u001b[49m\u001b[43m,\u001b[49m\n\u001b[0;32m    126\u001b[0m \u001b[43m                  \u001b[49m\u001b[43mignoreNan\u001b[49m\u001b[43m       \u001b[49m\u001b[38;5;241;43m=\u001b[39;49m\u001b[43m \u001b[49m\u001b[43mignoreNan\u001b[49m\u001b[43m,\u001b[49m\n\u001b[0;32m    127\u001b[0m \u001b[43m                  \u001b[49m\u001b[43mverbose\u001b[49m\u001b[43m         \u001b[49m\u001b[38;5;241;43m=\u001b[39;49m\u001b[43m \u001b[49m\u001b[43mverbose\u001b[49m\u001b[43m \u001b[49m\u001b[43m)\u001b[49m\n\u001b[0;32m    129\u001b[0m S\u001b[38;5;241m.\u001b[39mEmbedData()\n\u001b[0;32m    130\u001b[0m S\u001b[38;5;241m.\u001b[39mRemoveNan()\n",
      "File \u001b[1;32m~\\AppData\\Local\\Packages\\PythonSoftwareFoundation.Python.3.11_qbz5n2kfra8p0\\LocalCache\\local-packages\\Python311\\site-packages\\pyEDM\\Simplex.py:63\u001b[0m, in \u001b[0;36mSimplex.__init__\u001b[1;34m(self, dataFrame, columns, target, lib, pred, E, Tp, knn, tau, exclusionRadius, embedded, validLib, noTime, ignoreNan, verbose)\u001b[0m\n\u001b[0;32m     54\u001b[0m \u001b[38;5;28mself\u001b[39m\u001b[38;5;241m.\u001b[39mverbose         \u001b[38;5;241m=\u001b[39m verbose\n\u001b[0;32m     56\u001b[0m \u001b[38;5;66;03m# Prediction row accounting of library neighbor ties\u001b[39;00m\n\u001b[0;32m     57\u001b[0m \u001b[38;5;66;03m# self.anyTies       = False\u001b[39;00m\n\u001b[0;32m     58\u001b[0m \u001b[38;5;66;03m# self.ties          = None  # (bool) true/false each prediction row\u001b[39;00m\n\u001b[1;32m   (...)\u001b[0m\n\u001b[0;32m     61\u001b[0m \n\u001b[0;32m     62\u001b[0m \u001b[38;5;66;03m# Setup\u001b[39;00m\n\u001b[1;32m---> 63\u001b[0m \u001b[38;5;28;43mself\u001b[39;49m\u001b[38;5;241;43m.\u001b[39;49m\u001b[43mValidate\u001b[49m\u001b[43m(\u001b[49m\u001b[43m)\u001b[49m      \u001b[38;5;66;03m# EDM Method\u001b[39;00m\n\u001b[0;32m     64\u001b[0m \u001b[38;5;28mself\u001b[39m\u001b[38;5;241m.\u001b[39mCreateIndices() \u001b[38;5;66;03m# Generate lib_i & pred_i, validLib : EDM Method\u001b[39;00m\n\u001b[0;32m     66\u001b[0m \u001b[38;5;28mself\u001b[39m\u001b[38;5;241m.\u001b[39mtargetVec \u001b[38;5;241m=\u001b[39m \u001b[38;5;28mself\u001b[39m\u001b[38;5;241m.\u001b[39mData[ [ \u001b[38;5;28mself\u001b[39m\u001b[38;5;241m.\u001b[39mtarget[\u001b[38;5;241m0\u001b[39m] ] ]\u001b[38;5;241m.\u001b[39mto_numpy()\n",
      "File \u001b[1;32m~\\AppData\\Local\\Packages\\PythonSoftwareFoundation.Python.3.11_qbz5n2kfra8p0\\LocalCache\\local-packages\\Python311\\site-packages\\pyEDM\\EDM.py:283\u001b[0m, in \u001b[0;36mEDM.Validate\u001b[1;34m(self)\u001b[0m\n\u001b[0;32m    280\u001b[0m     \u001b[38;5;28mprint\u001b[39m( \u001b[38;5;124mf\u001b[39m\u001b[38;5;124m'\u001b[39m\u001b[38;5;132;01m{\u001b[39;00m\u001b[38;5;28mself\u001b[39m\u001b[38;5;241m.\u001b[39mname\u001b[38;5;132;01m}\u001b[39;00m\u001b[38;5;124m: Validate()\u001b[39m\u001b[38;5;124m'\u001b[39m )\n\u001b[0;32m    282\u001b[0m \u001b[38;5;28;01mif\u001b[39;00m \u001b[38;5;28mself\u001b[39m\u001b[38;5;241m.\u001b[39mData \u001b[38;5;129;01mis\u001b[39;00m \u001b[38;5;28;01mNone\u001b[39;00m :\n\u001b[1;32m--> 283\u001b[0m     \u001b[38;5;28;01mraise\u001b[39;00m \u001b[38;5;167;01mRuntimeError\u001b[39;00m(\u001b[38;5;124mf\u001b[39m\u001b[38;5;124m'\u001b[39m\u001b[38;5;124mValidate() \u001b[39m\u001b[38;5;132;01m{\u001b[39;00m\u001b[38;5;28mself\u001b[39m\u001b[38;5;241m.\u001b[39mname\u001b[38;5;132;01m}\u001b[39;00m\u001b[38;5;124m: dataFrame required.\u001b[39m\u001b[38;5;124m'\u001b[39m)\n\u001b[0;32m    284\u001b[0m \u001b[38;5;28;01melse\u001b[39;00m :\n\u001b[0;32m    285\u001b[0m     \u001b[38;5;28;01mif\u001b[39;00m \u001b[38;5;129;01mnot\u001b[39;00m \u001b[38;5;28misinstance\u001b[39m( \u001b[38;5;28mself\u001b[39m\u001b[38;5;241m.\u001b[39mData, DataFrame ) :\n",
      "\u001b[1;31mRuntimeError\u001b[0m: Validate() Simplex: dataFrame required."
     ]
    }
   ],
   "source": [
    "import numpy as np\n",
    "import pandas as pd\n",
    "import pyEDM\n",
    "\n",
    "df['Imbalance_Price_Normalized'] = (df['imbalance_price'] - df['imbalance_price'].mean()) / df['imbalance_price'].std()\n",
    "\n",
    "# First order change\n",
    "df['Imbalance_Price_Detrended'] = df['Imbalance_Price_Normalized'].diff()\n",
    "\n",
    "# Example dataset (replace with your actual data)\n",
    "time_series_data = {\n",
    "    \"Time\": df.index,\n",
    "    \"Driver1\": df['solar_production'].values,\n",
    "    \"Target\": df['Imbalance_Price_Detrended'].values\n",
    "}\n",
    "\n",
    "# Create an EDM object\n",
    "edm = pyEDM.Simplex()\n",
    "\n",
    "# Set the columns\n",
    "target_col = \"Target\"\n",
    "driver_cols = \"Driver1\"\n",
    "time_col = \"Time\"\n",
    "\n",
    "# Load the data\n",
    "edm.Dataframe(time_series_data, target_col, driver_cols, time_col)\n",
    "\n",
    "# Embed the data\n",
    "edm.EmbedDimension(3)  # You can choose the embedding dimension\n",
    "\n",
    "# Predict using simplex model\n",
    "prediction = edm.Predict(target_col, 5)  # Predict 5 steps ahead\n",
    "\n",
    "print(\"Predicted values:\")\n",
    "print(prediction)"
   ]
  },
  {
   "cell_type": "markdown",
   "metadata": {},
   "source": [
    "### Distinguishing nonlinear dynamical systems from linear stochastic systems\n",
    "If nonlinear, low dimensional, and deterministic:\n",
    "Should be possible to construct a mechanistic model with good forecast skill\n",
    "High dimensional nonlinear systems can be difficult to distinguish from linear stochastic systems given only time series data\n",
    "State dependency reflects the degree of nonlinearity\n",
    "\n",
    "#### S-map\n",
    "S-Mapping is a technique used in EDM to reconstruct the dynamics of a system. It's based on the concept of finding correlations between the current state of the system and its future states.\n",
    "\n",
    "Steps to analyse:\n",
    "\n",
    "Embedding: Similar to other EDM techniques, S-Map starts by embedding the time series data into a high-dimensional space.\n",
    "\n",
    "Neighborhood Search: For each point in the embedded space, S-Map identifies a neighborhood of nearby points. This neighborhood is typically defined using a distance metric.\n",
    "\n",
    "Prediction: S-Map uses the data points within each neighborhood to predict the future state of the system. This prediction is typically based on a weighted average of the neighboring points, where the weights are determined by their distances from the current point.\n",
    "\n",
    "Model Validation: The predicted future states are compared with the actual future states to validate the accuracy of the S-Map model.\n",
    "\n"
   ]
  },
  {
   "cell_type": "code",
   "execution_count": 34,
   "metadata": {},
   "outputs": [
    {
     "name": "stderr",
     "output_type": "stream",
     "text": [
      "C:\\Users\\femia\\AppData\\Local\\Temp\\ipykernel_43812\\661040698.py:15: PerformanceWarning: Adding/subtracting object-dtype array to DatetimeArray not vectorized.\n",
      "  normalized_data = (df - df.mean()) / df.std()\n",
      "C:\\Users\\femia\\AppData\\Local\\Packages\\PythonSoftwareFoundation.Python.3.11_qbz5n2kfra8p0\\LocalCache\\local-packages\\Python311\\site-packages\\pyEDM\\EDM.py:248: UserWarning: SMap: CreateIndices():  Disjoint prediction sets not supported.\n",
      "  warn( msg )\n"
     ]
    },
    {
     "ename": "TypeError",
     "evalue": "ufunc 'isnan' not supported for the input types, and the inputs could not be safely coerced to any supported types according to the casting rule ''safe''",
     "output_type": "error",
     "traceback": [
      "\u001b[1;31m---------------------------------------------------------------------------\u001b[0m",
      "\u001b[1;31mTypeError\u001b[0m                                 Traceback (most recent call last)",
      "Cell \u001b[1;32mIn[34], line 23\u001b[0m\n\u001b[0;32m     20\u001b[0m tau \u001b[38;5;241m=\u001b[39m \u001b[38;5;241m1\u001b[39m        \u001b[38;5;66;03m# Time lag\u001b[39;00m\n\u001b[0;32m     22\u001b[0m \u001b[38;5;66;03m# Perform Multivariable S-Map\u001b[39;00m\n\u001b[1;32m---> 23\u001b[0m result \u001b[38;5;241m=\u001b[39m \u001b[43mSMap\u001b[49m\u001b[43m(\u001b[49m\u001b[43mdataFrame\u001b[49m\u001b[38;5;241;43m=\u001b[39;49m\u001b[43mnormalized_data\u001b[49m\u001b[43m,\u001b[49m\u001b[43m \u001b[49m\u001b[43mcolumns\u001b[49m\u001b[38;5;241;43m=\u001b[39;49m\u001b[43m[\u001b[49m\u001b[38;5;124;43m\"\u001b[39;49m\u001b[38;5;124;43mImbalance_Price\u001b[39;49m\u001b[38;5;124;43m\"\u001b[39;49m\u001b[43m,\u001b[49m\u001b[43m \u001b[49m\u001b[38;5;124;43m\"\u001b[39;49m\u001b[38;5;124;43mOther_Variable\u001b[39;49m\u001b[38;5;124;43m\"\u001b[39;49m\u001b[43m]\u001b[49m\u001b[43m,\u001b[49m\u001b[43m \u001b[49m\u001b[43mtarget\u001b[49m\u001b[38;5;241;43m=\u001b[39;49m\u001b[38;5;124;43m\"\u001b[39;49m\u001b[38;5;124;43mImbalance_Price\u001b[39;49m\u001b[38;5;124;43m\"\u001b[39;49m\u001b[43m,\u001b[49m\n\u001b[0;32m     24\u001b[0m \u001b[43m              \u001b[49m\u001b[43mlib\u001b[49m\u001b[38;5;241;43m=\u001b[39;49m\u001b[43mlib\u001b[49m\u001b[43m,\u001b[49m\u001b[43m \u001b[49m\u001b[43mpred\u001b[49m\u001b[38;5;241;43m=\u001b[39;49m\u001b[43mpred\u001b[49m\u001b[43m,\u001b[49m\u001b[43m \u001b[49m\u001b[43mE\u001b[49m\u001b[38;5;241;43m=\u001b[39;49m\u001b[38;5;241;43m200\u001b[39;49m\u001b[43m,\u001b[49m\u001b[43m \u001b[49m\u001b[43mTp\u001b[49m\u001b[38;5;241;43m=\u001b[39;49m\u001b[38;5;241;43m1\u001b[39;49m\u001b[43m,\u001b[49m\u001b[43m \u001b[49m\u001b[43mknn\u001b[49m\u001b[38;5;241;43m=\u001b[39;49m\u001b[38;5;241;43m3\u001b[39;49m\u001b[43m,\u001b[49m\u001b[43m \u001b[49m\u001b[43mtau\u001b[49m\u001b[38;5;241;43m=\u001b[39;49m\u001b[43mtau\u001b[49m\u001b[43m,\u001b[49m\u001b[43m \u001b[49m\u001b[43membedded\u001b[49m\u001b[38;5;241;43m=\u001b[39;49m\u001b[38;5;28;43;01mTrue\u001b[39;49;00m\u001b[43m)\u001b[49m\n\u001b[0;32m     26\u001b[0m \u001b[38;5;66;03m# Print the resulting dataframe\u001b[39;00m\n\u001b[0;32m     27\u001b[0m \u001b[38;5;28mprint\u001b[39m(result)\n",
      "File \u001b[1;32m~\\AppData\\Local\\Packages\\PythonSoftwareFoundation.Python.3.11_qbz5n2kfra8p0\\LocalCache\\local-packages\\Python311\\site-packages\\pyEDM\\API.py:210\u001b[0m, in \u001b[0;36mSMap\u001b[1;34m(dataFrame, columns, target, lib, pred, E, Tp, knn, tau, theta, exclusionRadius, solver, embedded, validLib, noTime, ignoreNan, showPlot, verbose, returnObject)\u001b[0m\n\u001b[0;32m    191\u001b[0m S \u001b[38;5;241m=\u001b[39m SMapClass( dataFrame       \u001b[38;5;241m=\u001b[39m dataFrame,\n\u001b[0;32m    192\u001b[0m                columns         \u001b[38;5;241m=\u001b[39m columns,\n\u001b[0;32m    193\u001b[0m                target          \u001b[38;5;241m=\u001b[39m target, \n\u001b[1;32m   (...)\u001b[0m\n\u001b[0;32m    206\u001b[0m                ignoreNan       \u001b[38;5;241m=\u001b[39m ignoreNan,\n\u001b[0;32m    207\u001b[0m                verbose         \u001b[38;5;241m=\u001b[39m verbose )\n\u001b[0;32m    209\u001b[0m S\u001b[38;5;241m.\u001b[39mEmbedData()\n\u001b[1;32m--> 210\u001b[0m \u001b[43mS\u001b[49m\u001b[38;5;241;43m.\u001b[39;49m\u001b[43mRemoveNan\u001b[49m\u001b[43m(\u001b[49m\u001b[43m)\u001b[49m\n\u001b[0;32m    211\u001b[0m S\u001b[38;5;241m.\u001b[39mFindNeighbors()\n\u001b[0;32m    212\u001b[0m S\u001b[38;5;241m.\u001b[39mProject()\n",
      "File \u001b[1;32m~\\AppData\\Local\\Packages\\PythonSoftwareFoundation.Python.3.11_qbz5n2kfra8p0\\LocalCache\\local-packages\\Python311\\site-packages\\pyEDM\\EDM.py:92\u001b[0m, in \u001b[0;36mEDM.RemoveNan\u001b[1;34m(self)\u001b[0m\n\u001b[0;32m     90\u001b[0m \u001b[38;5;66;03m# If targetVec has nan, set flag for SMap internals\u001b[39;00m\n\u001b[0;32m     91\u001b[0m \u001b[38;5;28;01mif\u001b[39;00m \u001b[38;5;28mself\u001b[39m\u001b[38;5;241m.\u001b[39mname \u001b[38;5;241m==\u001b[39m \u001b[38;5;124m'\u001b[39m\u001b[38;5;124mSMap\u001b[39m\u001b[38;5;124m'\u001b[39m :\n\u001b[1;32m---> 92\u001b[0m     \u001b[38;5;28;01mif\u001b[39;00m \u001b[38;5;28many\u001b[39m( \u001b[43misnan\u001b[49m\u001b[43m(\u001b[49m\u001b[43m \u001b[49m\u001b[38;5;28;43mself\u001b[39;49m\u001b[38;5;241;43m.\u001b[39;49m\u001b[43mtargetVec\u001b[49m\u001b[43m \u001b[49m\u001b[43m)\u001b[49m ) :\n\u001b[0;32m     93\u001b[0m         \u001b[38;5;28mself\u001b[39m\u001b[38;5;241m.\u001b[39mtargetVecNan \u001b[38;5;241m=\u001b[39m \u001b[38;5;28;01mTrue\u001b[39;00m\n",
      "\u001b[1;31mTypeError\u001b[0m: ufunc 'isnan' not supported for the input types, and the inputs could not be safely coerced to any supported types according to the casting rule ''safe''"
     ]
    }
   ],
   "source": [
    "from pyEDM import *\n",
    "\n",
    "# Normalize data to zero mean and unit variance\n",
    "df =df.drop('Date', axis=1)\n",
    "normalized_data = (df - df.mean()) / df.std()\n",
    "\n",
    "# First order\n",
    "normalized_data['Imbalance_Price_Detrended'] = normalized_data['Imbalance_Price_Normalized'].diff()\n",
    "\n",
    "# Parameters for EDM\n",
    "lib = \"1 92\"  # Embedding library: E1 with embedding dimension 200\n",
    "pred = \"1 10 20 92\" \n",
    "tau = 1  # Time lag\n",
    "\n",
    "\n",
    "# Perform Multivariable S-Map\n",
    "result = SMap(dataFrame=normalized_data, columns=[\"Imbalance_Price_Detrended\", \"solar_production\"], target=\"imbalance_price\",\n",
    "              lib=lib, pred=pred, E=200, Tp=1, knn=3, tau=tau, embedded=True)\n",
    "\n",
    "# Print the resulting dataframe\n",
    "print(result)\n"
   ]
  },
  {
   "cell_type": "markdown",
   "metadata": {},
   "source": [
    "## Interpreting the results of the S-map\n",
    "\n",
    "Interpreting the results of an S-Map analysis involves understanding the relationships between the input variables and the target variable, as well as the predictive power of the model. Here's a general guide on how to interpret the S-Map results:\n",
    "\n",
    "Pattern Recognition: Look for patterns in the S-Map output. This can include visual inspection of the predicted values compared to the actual values, as well as statistical measures of accuracy.\n",
    "\n",
    "Prediction Accuracy: Evaluate the accuracy of the S-Map predictions. This can be done by comparing the predicted values to the actual values using metrics such as root mean square error (RMSE), mean absolute error (MAE), or correlation coefficients.\n",
    "\n",
    "Variable Importance: Assess the importance of each input variable in predicting the target variable. This can be done by examining the weights assigned to each variable in the S-Map model. Variables with higher weights are more influential in predicting the target variable.\n",
    "\n",
    "Directionality: Determine the directionality of the relationships between variables. In S-Map, positive weights indicate a positive correlation between the input variable and the target variable, while negative weights indicate a negative correlation.\n",
    "\n",
    "Nonlinear Relationships: Consider the possibility of nonlinear relationships between variables. S-Map is capable of capturing nonlinear dependencies between variables, so it's important to assess whether the relationships identified by the model are linear or nonlinear.\n",
    "\n",
    "Generalization: Evaluate the generalization of the model to unseen data. This can be done by splitting the data into training and testing sets and assessing the model's performance on the testing set.\n",
    "\n",
    "Visualization: Use visualizations such as scatter plots, line plots, or heatmaps to explore the relationships between variables and identify any patterns or trends in the data."
   ]
  }
 ],
 "metadata": {
  "kernelspec": {
   "display_name": "Python 3",
   "language": "python",
   "name": "python3"
  },
  "language_info": {
   "codemirror_mode": {
    "name": "ipython",
    "version": 3
   },
   "file_extension": ".py",
   "mimetype": "text/x-python",
   "name": "python",
   "nbconvert_exporter": "python",
   "pygments_lexer": "ipython3",
   "version": "3.11.9"
  }
 },
 "nbformat": 4,
 "nbformat_minor": 2
}
